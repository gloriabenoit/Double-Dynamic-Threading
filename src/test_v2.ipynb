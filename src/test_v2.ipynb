{
 "cells": [
  {
   "cell_type": "code",
   "execution_count": 1,
   "id": "9df2d678-0949-41e3-a5fd-7603641b7588",
   "metadata": {},
   "outputs": [],
   "source": [
    "import pandas as pd\n",
    "import numpy as np"
   ]
  },
  {
   "cell_type": "code",
   "execution_count": 2,
   "id": "855a2651-a89e-4b89-9088-782cc1b4802f",
   "metadata": {},
   "outputs": [],
   "source": [
    "class CarboneAlpha:\n",
    "    \"\"\"Classe pour représenter un carbone alpha d'une protéine.\"\"\"\n",
    "    \n",
    "    def __init__(self, number, x, y, z):\n",
    "        self.number = number\n",
    "        self.x = x\n",
    "        self.y = y\n",
    "        self.z = z\n",
    "    \n",
    "    def compute_distance(self, other):\n",
    "        dist = ((other.x - self.x) ** 2 + (other.y - self.y) ** 2 + (other.z - self.z) ** 2) ** 0.5\n",
    "        return dist\n",
    "\n",
    "class Template:\n",
    "    \"\"\"Classe pour représenter le template utilisé.\"\"\"\n",
    "    \n",
    "    def __init__(self, file):\n",
    "        self.structure = self.build_template_from_pdb(file)\n",
    "        self.length = len(self.structure)\n",
    "\n",
    "    def build_template_from_pdb(self, filename):\n",
    "        list_calpha = []\n",
    "        with open(filename, \"r\") as pdb :\n",
    "            for ligne in pdb:\n",
    "                if ligne.startswith(\"ATOM\") and (ligne[12:16].strip() == \"CA\"):\n",
    "                    number = ligne[6:11].strip()\n",
    "                    x = float(ligne[30:38].strip())\n",
    "                    y = float(ligne[38:46].strip())\n",
    "                    z = float(ligne[46:54].strip())\n",
    "                                       \n",
    "                    list_calpha.append(CarboneAlpha(number, x, y, z))\n",
    "        return list_calpha\n",
    "        \n",
    "    def build_dist_matrix(self):\n",
    "        dist_list = []\n",
    "        \n",
    "        for i, atom in enumerate(self.structure):\n",
    "            dist_ligne = []\n",
    "            for other in (self.structure):\n",
    "                dist_ligne.append(atom.compute_distance(other))\n",
    "            dist_list.append(dist_ligne)\n",
    "            \n",
    "        dist_matrix = np.array(dist_list)\n",
    "        return dist_matrix\n",
    "    \n",
    "    def __str__(self):\n",
    "        string = \"\"\n",
    "        for i, ca in enumerate(self.structure):\n",
    "            string += f\"position {i}-{ca.number}, coor( {ca.x}, {ca.y}, {ca.z})\\n\"\n",
    "        return string"
   ]
  },
  {
   "cell_type": "code",
   "execution_count": 3,
   "id": "79eb22fc-59f1-41ba-86f4-bc2454bad6f3",
   "metadata": {},
   "outputs": [
    {
     "name": "stdout",
     "output_type": "stream",
     "text": [
      "position 0-2, coor( 24.935, 20.652, 10.774)\n",
      "position 1-14, coor( 21.801, 19.381, 9.017)\n",
      "position 2-26, coor( 18.477, 20.539, 10.432)\n",
      "position 3-34, coor( 16.223, 17.66, 11.537)\n",
      "position 4-41, coor( 13.04, 19.289, 10.212)\n",
      "position 5-50, coor( 14.2, 20.806, 6.941)\n",
      "position 6-57, coor( 17.256, 18.676, 6.039)\n",
      "position 7-61, coor( 19.242, 21.76, 5.125)\n",
      "position 8-68, coor( 22.762, 22.68, 6.241)\n",
      "position 9-82, coor( 23.135, 25.467, 8.794)\n",
      "\n",
      "[[ 0.          3.81109512  6.46803656  9.24300692 11.98601844 11.3998171\n",
      "   9.23535825  8.09624073  5.42059056  5.50859556]\n",
      " [ 3.81109512  0.          3.7937007   6.35816994  8.84260199  8.00722187\n",
      "   5.47928225  5.2302759   4.41736324  6.2344752 ]\n",
      " [ 6.46803656  3.7937007   0.          3.81970967  5.58317732  5.52730486\n",
      "   4.92545013  5.49911947  6.36471421  6.97604415]\n",
      " [ 9.24300692  6.35816994  3.81970967  0.          3.81323419  5.92562748\n",
      "   5.68571447  8.18768007  9.79829256 10.7818849 ]\n",
      " [11.98601844  8.84260199  5.58317732  3.81323419  0.          3.78765495\n",
      "   5.96358567  8.39334343 11.0356244  11.92004333]\n",
      " [11.3998171   8.00722187  5.52730486  5.92562748  3.78765495  0.\n",
      "   3.83270662  5.44332031  8.79259461 10.24659724]\n",
      " [ 9.23535825  5.47928225  4.92545013  5.68571447  5.96358567  3.83270662\n",
      "   0.          3.78029734  6.8109365   9.39523001]\n",
      " [ 8.09624073  5.2302759   5.49911947  8.18768007  8.39334343  5.44332031\n",
      "   3.78029734  0.          3.80555594  6.50836838]\n",
      " [ 5.42059056  4.41736324  6.36471421  9.79829256 11.0356244   8.79259461\n",
      "   6.8109365   3.80555594  0.          3.79793457]\n",
      " [ 5.50859556  6.2344752   6.97604415 10.7818849  11.92004333 10.24659724\n",
      "   9.39523001  6.50836838  3.79793457  0.        ]]\n"
     ]
    }
   ],
   "source": [
    "PDB_FILE = \"../data/5awl.pdb\"\n",
    "TEMPLATE = Template(PDB_FILE)\n",
    "print(TEMPLATE)\n",
    "DIST_MATRIX = TEMPLATE.build_dist_matrix()\n",
    "print(DIST_MATRIX)"
   ]
  },
  {
   "cell_type": "code",
   "execution_count": 4,
   "id": "20bac227-4998-45bc-8b17-7802846bcb92",
   "metadata": {},
   "outputs": [],
   "source": [
    "def clean_DOPE_data(filename):\n",
    "    ca_matrix = []\n",
    "    \n",
    "    with open(filename, \"r\") as dope :\n",
    "        for ligne in dope:\n",
    "            if ligne[3:7].strip() == \"CA\" and ligne[11:14].strip() == \"CA\":\n",
    "                ca_matrix.append(ligne.split())\n",
    "    \n",
    "    columns = ['res1', 'temp1', 'res2', 'temp2'] + list(np.arange(0.25, 15, 0.5))\n",
    "    dope_score = pd.DataFrame(ca_matrix, columns = columns) \n",
    "    dope_score = dope_score.drop(['temp1', 'temp2'], axis=1)\n",
    "    \n",
    "    return dope_score"
   ]
  },
  {
   "cell_type": "code",
   "execution_count": 5,
   "id": "3475eb1c-2743-47cc-8830-af841abbc76f",
   "metadata": {},
   "outputs": [
    {
     "name": "stdout",
     "output_type": "stream",
     "text": [
      "    res1 res2   0.25   0.75   1.25   1.75   2.25   2.75   3.25   3.75  ...  \\\n",
      "0    ALA  ALA  10.00  10.00  10.00  10.00  10.00  10.00  10.00  -1.64  ...   \n",
      "1    ALA  ARG  10.00  10.00  10.00  10.00  10.00  10.00  10.00  -1.61  ...   \n",
      "2    ALA  ASN  10.00  10.00  10.00  10.00  10.00  10.00  10.00  -1.58  ...   \n",
      "3    ALA  ASP  10.00  10.00  10.00  10.00  10.00  10.00  10.00  -1.62  ...   \n",
      "4    ALA  CYS  10.00  10.00  10.00  10.00  10.00  10.00  10.00  -1.49  ...   \n",
      "..   ...  ...    ...    ...    ...    ...    ...    ...    ...    ...  ...   \n",
      "395  VAL  SER  10.00  10.00  10.00  10.00  10.00  10.00  10.00  -1.48  ...   \n",
      "396  VAL  THR  10.00  10.00  10.00  10.00  10.00   5.84   6.15  -1.56  ...   \n",
      "397  VAL  TRP  10.00  10.00  10.00  10.00  10.00  10.00  10.00  -1.27  ...   \n",
      "398  VAL  TYR  10.00  10.00  10.00  10.00  10.00  10.00   5.71  -1.38  ...   \n",
      "399  VAL  VAL  10.00  10.00  10.00  10.00  10.00  10.00  10.00  -1.48  ...   \n",
      "\n",
      "     10.25  10.75  11.25  11.75  12.25  12.75  13.25  13.75  14.25  14.75  \n",
      "0    -0.25  -0.16   0.02   0.03  -0.08   0.01  -0.02  -0.08  -0.12  -0.02  \n",
      "1    -0.13  -0.09   0.08   0.06  -0.01   0.02  -0.00  -0.00  -0.10  -0.02  \n",
      "2    -0.11  -0.03   0.12   0.10  -0.01   0.04   0.03  -0.02  -0.05  -0.02  \n",
      "3    -0.09  -0.02   0.07   0.09  -0.03  -0.00  -0.02  -0.02  -0.11  -0.02  \n",
      "4    -0.29  -0.23   0.02  -0.02  -0.06  -0.03  -0.07  -0.05  -0.11  -0.02  \n",
      "..     ...    ...    ...    ...    ...    ...    ...    ...    ...    ...  \n",
      "395  -0.26  -0.12   0.01   0.02  -0.01  -0.00  -0.03  -0.04  -0.06  -0.02  \n",
      "396  -0.31  -0.17  -0.04  -0.04  -0.03  -0.03  -0.03  -0.03  -0.04  -0.02  \n",
      "397  -0.29  -0.25  -0.08  -0.04  -0.04  -0.02   0.03  -0.00   0.01  -0.02  \n",
      "398  -0.37  -0.20  -0.08  -0.09  -0.05  -0.01  -0.03  -0.04  -0.07  -0.02  \n",
      "399  -0.52  -0.35  -0.19  -0.12  -0.11  -0.07  -0.03  -0.02  -0.07  -0.02  \n",
      "\n",
      "[400 rows x 32 columns]\n"
     ]
    }
   ],
   "source": [
    "DOPE_FILE = \"../data/dope.par\"\n",
    "DOPE_MATRIX = clean_DOPE_data(DOPE_FILE)\n",
    "print(DOPE_MATRIX)"
   ]
  },
  {
   "cell_type": "markdown",
   "id": "b8be09be-7c4f-488d-8dad-9e3284193887",
   "metadata": {},
   "source": [
    "# Classes matrices dynamiques"
   ]
  },
  {
   "cell_type": "code",
   "execution_count": 54,
   "id": "395fabda-6dd8-4158-a1f4-892a83616d1a",
   "metadata": {},
   "outputs": [],
   "source": [
    "class DynamicMatrix:    \n",
    "    def __init__(self, lines, columns, gap):\n",
    "        self.matrix = np.zeros((lines, columns))\n",
    "        self.lines = lines\n",
    "        self.columns = columns\n",
    "        self.gap = gap\n",
    "\n",
    "    def initialize_matrix(self, first_val, start, end, get_score):\n",
    "        if (start[0] < 0) or (start[1] < 0):\n",
    "            raise ValueError(\"Start of initialization out of matrix.\")\n",
    "        if (end[0] >= self.lines) or (end[1] >= self.columns):\n",
    "            raise ValueError(\"End of initialization out of matrix.\")\n",
    "        \n",
    "        # Première case\n",
    "        self.matrix[start[0], start[1]] = first_val\n",
    "        \n",
    "        # Remplissage de la première colonne jusqu'à la limite\n",
    "        for i in range(start[0] + 1, end[0] + 1):\n",
    "            self.matrix[i, start[1]] = self.matrix[i - 1, start[1]] + self.gap + get_score(i, start[1])\n",
    "\n",
    "        # Remplissage de la première ligne jusqu'à la limite\n",
    "        for j in range(start[1] + 1, end[1] + 1):\n",
    "            self.matrix[start[0], j] = self.matrix[start[0], j - 1] + self.gap + get_score(start[0], j)"
   ]
  },
  {
   "cell_type": "code",
   "execution_count": 100,
   "id": "53de0db7-962e-41be-a013-1a0940eb9077",
   "metadata": {},
   "outputs": [],
   "source": [
    "class LowLevelMatrix(DynamicMatrix):\n",
    "    aa_codes = {\n",
    "    'A': 'ALA', 'R': 'ARG', 'N': 'ASN', 'D': 'ASP', 'C': 'CYS',\n",
    "    'Q': 'GLN', 'E': 'GLU', 'G': 'GLY', 'H': 'HIS', 'I': 'ILE',\n",
    "    'L': 'LEU', 'K': 'LYS', 'M': 'MET', 'F': 'PHE', 'P': 'PRO',\n",
    "    'S': 'SER', 'T': 'THR', 'W': 'TRP', 'Y': 'TYR', 'V': 'VAL'\n",
    "    }\n",
    "    \n",
    "    def __init__(self, gap, frozen, distance, dope, sequence):\n",
    "        lines = len(sequence)\n",
    "        columns = len(distance)\n",
    "        \n",
    "        DynamicMatrix.__init__(self, lines, columns, gap)\n",
    "\n",
    "        # Vérification du blocage de la case\n",
    "        if (frozen['seq_id'] >= lines) or (frozen['seq_id'] < 0):\n",
    "            raise ValueError(\"Frozen line index out of matrix.\")\n",
    "        if (frozen['pos_id'] >= columns) or (frozen['pos_id'] < 0):\n",
    "            raise ValueError(\"Frozen column index out of matrix\")\n",
    "\n",
    "        # Récupération du résidu fixé\n",
    "        frozen['seq_res'] = sequence[frozen['seq_id']]\n",
    "        \n",
    "        self.frozen = frozen\n",
    "        self.distance = distance\n",
    "        self.dope = dope\n",
    "        self.sequence = sequence\n",
    "\n",
    "    def round_distance(self, dist):\n",
    "        # arrondi au quart le plus proche\n",
    "        rounded_value = round(dist * 4) / 4\n",
    "        \n",
    "        # ne garde que 0.25 ou 0.75\n",
    "        decimal = rounded_value % 1\n",
    "        if decimal == 0.0:\n",
    "            return rounded_value + 0.25\n",
    "        elif decimal == 0.5:\n",
    "            return rounded_value + 0.25\n",
    "        else:\n",
    "            return rounded_value\n",
    "    \n",
    "    def get_score(self, i, j):\n",
    "        dist = self.distance[self.frozen[\"pos_id\"], j]\n",
    "        closest_dist = self.round_distance(dist)\n",
    "        score = self.dope.loc[(self.dope['res1'] == self.aa_codes[self.frozen['seq_res']]) & (self.dope['res2'] == self.aa_codes[self.sequence[i]]), closest_dist]\n",
    "        \n",
    "        return float(score.values[0])\n",
    "    \n",
    "    def fill_matrix(self):\n",
    "        # Partie supérieure gauche\n",
    "        self.initialize_matrix(0, [0, 0], [self.frozen['seq_id'] - 1, self.frozen['pos_id'] - 1], self.get_score)\n",
    "\n",
    "        for i in range(1, self.frozen['seq_id']):\n",
    "            for j in range(1, self.frozen['pos_id']):\n",
    "                score = self.get_score(i, j)\n",
    "                self.matrix[i, j] = score + min(self.matrix[i - 1, j - 1],\n",
    "                                                self.matrix[i - 1, j] + self.gap,\n",
    "                                                self.matrix[i, j - 1] + self.gap\n",
    "                                               )\n",
    "\n",
    "        # Case fixée\n",
    "        if (self.frozen['seq_id'] == 0):\n",
    "            self.matrix[self.frozen['seq_id'], self.frozen['pos_id']] = self.matrix[self.frozen['seq_id'], self.frozen['pos_id'] - 1]\n",
    "        elif (self.frozen['pos_id'] == 0):\n",
    "            self.matrix[self.frozen['seq_id'], self.frozen['pos_id']] = self.matrix[self.frozen['seq_id'] - 1, self.frozen['pos_id']]\n",
    "        else :\n",
    "            self.matrix[self.frozen['seq_id'], self.frozen['pos_id']] = self.matrix[self.frozen['seq_id'] - 1, self.frozen['pos_id'] - 1]\n",
    "\n",
    "        # Partie inférieure droite (si elle existe)\n",
    "        if (self.frozen['seq_id'] != self.lines - 1) and (self.frozen['pos_id'] != self.columns - 1):\n",
    "            self.initialize_matrix(self.matrix[self.frozen['seq_id'], self.frozen['pos_id']],\n",
    "                                   [self.frozen['seq_id'] + 1, self.frozen['pos_id'] + 1],\n",
    "                                   [self.lines - 1, self.columns - 1], self.get_score\n",
    "                                  )\n",
    "    \n",
    "            for i in range(self.frozen['seq_id'] + 2, self.lines):\n",
    "                for j in range(self.frozen['pos_id'] + 2, self.columns):\n",
    "                    score = self.get_score(i, j)\n",
    "                    self.matrix[i, j] = score + min(self.matrix[i - 1, j - 1],\n",
    "                                                    self.matrix[i - 1, j] + self.gap,\n",
    "                                                    self.matrix[i, j - 1] + self.gap\n",
    "                                                   )\n",
    "            max_score = self.matrix[i, j]\n",
    "        else :\n",
    "            max_score = self.matrix[self.frozen['seq_id'], self.frozen['pos_id']]\n",
    "        \n",
    "        return max_score"
   ]
  },
  {
   "cell_type": "code",
   "execution_count": 102,
   "id": "06c358a5-9309-4131-aaa5-0d6763d10a0d",
   "metadata": {},
   "outputs": [
    {
     "name": "stdout",
     "output_type": "stream",
     "text": [
      "[[0. 0. 0. 0. 0. 0. 0. 0. 0. 0.]\n",
      " [0. 0. 0. 0. 0. 0. 0. 0. 0. 0.]\n",
      " [0. 0. 0. 0. 0. 0. 0. 0. 0. 0.]\n",
      " [0. 0. 0. 0. 0. 0. 0. 0. 0. 0.]\n",
      " [0. 0. 0. 0. 0. 0. 0. 0. 0. 0.]\n",
      " [0. 0. 0. 0. 0. 0. 0. 0. 0. 0.]\n",
      " [0. 0. 0. 0. 0. 0. 0. 0. 0. 0.]\n",
      " [0. 0. 0. 0. 0. 0. 0. 0. 0. 0.]\n",
      " [0. 0. 0. 0. 0. 0. 0. 0. 0. 0.]\n",
      " [0. 0. 0. 0. 0. 0. 0. 0. 0. 0.]]\n",
      "[[ 0.000e+00  1.700e-01 -2.500e-01 -5.300e-01 -2.070e+00  0.000e+00\n",
      "   0.000e+00  0.000e+00  0.000e+00  0.000e+00]\n",
      " [-3.000e-02  1.400e-01 -6.700e-01 -9.500e-01 -3.610e+00  0.000e+00\n",
      "   0.000e+00  0.000e+00  0.000e+00  0.000e+00]\n",
      " [ 1.000e-02  2.000e-01 -1.260e+00 -1.440e+00 -5.200e+00  0.000e+00\n",
      "   0.000e+00  0.000e+00  0.000e+00  0.000e+00]\n",
      " [ 1.000e-01  1.300e-01 -1.670e+00 -2.070e+00 -6.930e+00  0.000e+00\n",
      "   0.000e+00  0.000e+00  0.000e+00  0.000e+00]\n",
      " [ 1.500e-01  3.000e-01 -1.980e+00 -2.290e+00 -8.570e+00  0.000e+00\n",
      "   0.000e+00  0.000e+00  0.000e+00  0.000e+00]\n",
      " [ 0.000e+00  0.000e+00  0.000e+00  0.000e+00  0.000e+00 -8.570e+00\n",
      "   0.000e+00  0.000e+00  0.000e+00  0.000e+00]\n",
      " [ 0.000e+00  0.000e+00  0.000e+00  0.000e+00  0.000e+00  0.000e+00\n",
      "  -8.570e+00 -9.040e+00 -9.090e+00 -9.230e+00]\n",
      " [ 0.000e+00  0.000e+00  0.000e+00  0.000e+00  0.000e+00  0.000e+00\n",
      "  -1.012e+01 -1.050e+01 -1.060e+01 -1.082e+01]\n",
      " [ 0.000e+00  0.000e+00  0.000e+00  0.000e+00  0.000e+00  0.000e+00\n",
      "  -1.163e+01 -1.201e+01 -1.208e+01 -1.229e+01]\n",
      " [ 0.000e+00  0.000e+00  0.000e+00  0.000e+00  0.000e+00  0.000e+00\n",
      "  -1.317e+01 -1.359e+01 -1.365e+01 -1.392e+01]]\n",
      "-13.920000000000002\n"
     ]
    }
   ],
   "source": [
    "FROZEN = {'seq_id': 5, 'pos_id': 5}\n",
    "SEQUENCE = \"YYDPETGTWY\"\n",
    "l_test = LowLevelMatrix(0, FROZEN, DIST_MATRIX, DOPE_MATRIX, SEQUENCE)\n",
    "\n",
    "print(l_test.matrix)\n",
    "MAX_SCORE = l_test.fill_matrix()\n",
    "print(l_test.matrix)\n",
    "print(MAX_SCORE)"
   ]
  },
  {
   "cell_type": "code",
   "execution_count": 66,
   "id": "e0ed1c7d-5274-47f6-85fd-87c43d8bf64e",
   "metadata": {},
   "outputs": [],
   "source": [
    "frozen = {'seq_id': 2, 'pos_id': 2}\n",
    "aa_codes = {\n",
    "    'A': 'ALA', 'R': 'ARG', 'N': 'ASN', 'D': 'ASP', 'C': 'CYS',\n",
    "    'Q': 'GLN', 'E': 'GLU', 'G': 'GLY', 'H': 'HIS', 'I': 'ILE',\n",
    "    'L': 'LEU', 'K': 'LYS', 'M': 'MET', 'F': 'PHE', 'P': 'PRO',\n",
    "    'S': 'SER', 'T': 'THR', 'W': 'TRP', 'Y': 'TYR', 'V': 'VAL'\n",
    "    }"
   ]
  },
  {
   "cell_type": "code",
   "execution_count": 61,
   "id": "101bd432-38f4-4ac9-ba45-b7b040599492",
   "metadata": {},
   "outputs": [
    {
     "name": "stdout",
     "output_type": "stream",
     "text": [
      "{'seq_id': 2, 'pos_id': 2, 'seq_res': 'A'}\n"
     ]
    }
   ],
   "source": [
    "frozen['seq_res'] = 'A'\n",
    "print(frozen)"
   ]
  },
  {
   "cell_type": "code",
   "execution_count": 62,
   "id": "65671470-b9ba-4d09-bf96-91bf44a19264",
   "metadata": {},
   "outputs": [
    {
     "data": {
      "text/plain": [
       "16    0.25\n",
       "Name: 8.25, dtype: object"
      ]
     },
     "execution_count": 62,
     "metadata": {},
     "output_type": "execute_result"
    }
   ],
   "source": [
    "DOPE_MATRIX.loc[(DOPE_MATRIX['res1'] == aa_codes['A']) & (DOPE_MATRIX['res2'] == aa_codes[SEQUENCE[5]]), 8.25]"
   ]
  },
  {
   "cell_type": "code",
   "execution_count": 13,
   "id": "95d42cf5-9cf7-45ce-9af2-b0267c13f249",
   "metadata": {},
   "outputs": [
    {
     "name": "stdout",
     "output_type": "stream",
     "text": [
      "10\n"
     ]
    }
   ],
   "source": [
    "print(TEMPLATE.length)"
   ]
  },
  {
   "cell_type": "code",
   "execution_count": 15,
   "id": "e26c1876-8661-4dac-a647-43507ad48bc3",
   "metadata": {},
   "outputs": [
    {
     "name": "stdout",
     "output_type": "stream",
     "text": [
      "10\n"
     ]
    }
   ],
   "source": [
    "print(len(DIST_MATRIX))"
   ]
  },
  {
   "cell_type": "code",
   "execution_count": null,
   "id": "1618a690-f0c5-4a46-9ea7-47d62141eb6f",
   "metadata": {},
   "outputs": [],
   "source": []
  }
 ],
 "metadata": {
  "kernelspec": {
   "display_name": "Python 3 (ipykernel)",
   "language": "python",
   "name": "python3"
  },
  "language_info": {
   "codemirror_mode": {
    "name": "ipython",
    "version": 3
   },
   "file_extension": ".py",
   "mimetype": "text/x-python",
   "name": "python",
   "nbconvert_exporter": "python",
   "pygments_lexer": "ipython3",
   "version": "3.12.3"
  }
 },
 "nbformat": 4,
 "nbformat_minor": 5
}
