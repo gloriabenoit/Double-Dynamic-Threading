{
 "cells": [
  {
   "cell_type": "markdown",
   "id": "55022db3-49a1-4e42-864c-0541da50eb9a",
   "metadata": {},
   "source": [
    "# Lecture de la matrice DOPE"
   ]
  },
  {
   "cell_type": "code",
   "execution_count": 5,
   "id": "7bc92fc8-437b-4a1e-a99e-a6431bdc40f1",
   "metadata": {},
   "outputs": [],
   "source": [
    "import pandas as pd\n",
    "import numpy as np"
   ]
  },
  {
   "cell_type": "code",
   "execution_count": 2,
   "id": "9da8a192-ad33-4bb4-b77c-24c8b50b3f01",
   "metadata": {},
   "outputs": [],
   "source": [
    "def clean_DOPE_data(filename):\n",
    "    ca_matrix = []\n",
    "    \n",
    "    with open(filename, \"r\") as dope :\n",
    "        for ligne in dope:\n",
    "            if ligne[3:7].strip() == \"CA\" and ligne[11:14].strip() == \"CA\":\n",
    "                ca_matrix.append(ligne.split())\n",
    "    \n",
    "    columns = ['res1', 'temp1', 'res2', 'temp2'] + list(np.arange(0.25, 15, 0.5))\n",
    "    dope_score = pd.DataFrame(ca_matrix, columns = columns) \n",
    "    dope_score = dope_score.drop(['temp1', 'temp2'], axis=1)\n",
    "    \n",
    "    return dope_score"
   ]
  },
  {
   "cell_type": "code",
   "execution_count": 3,
   "id": "38284d1f-7069-478b-aa7f-a29e917629b3",
   "metadata": {},
   "outputs": [
    {
     "name": "stdout",
     "output_type": "stream",
     "text": [
      "    res1 res2   0.25   0.75   1.25   1.75   2.25   2.75   3.25   3.75  ...  \\\n",
      "0    ALA  ALA  10.00  10.00  10.00  10.00  10.00  10.00  10.00  -1.64  ...   \n",
      "1    ALA  ARG  10.00  10.00  10.00  10.00  10.00  10.00  10.00  -1.61  ...   \n",
      "2    ALA  ASN  10.00  10.00  10.00  10.00  10.00  10.00  10.00  -1.58  ...   \n",
      "3    ALA  ASP  10.00  10.00  10.00  10.00  10.00  10.00  10.00  -1.62  ...   \n",
      "4    ALA  CYS  10.00  10.00  10.00  10.00  10.00  10.00  10.00  -1.49  ...   \n",
      "..   ...  ...    ...    ...    ...    ...    ...    ...    ...    ...  ...   \n",
      "395  VAL  SER  10.00  10.00  10.00  10.00  10.00  10.00  10.00  -1.48  ...   \n",
      "396  VAL  THR  10.00  10.00  10.00  10.00  10.00   5.84   6.15  -1.56  ...   \n",
      "397  VAL  TRP  10.00  10.00  10.00  10.00  10.00  10.00  10.00  -1.27  ...   \n",
      "398  VAL  TYR  10.00  10.00  10.00  10.00  10.00  10.00   5.71  -1.38  ...   \n",
      "399  VAL  VAL  10.00  10.00  10.00  10.00  10.00  10.00  10.00  -1.48  ...   \n",
      "\n",
      "     10.25  10.75  11.25  11.75  12.25  12.75  13.25  13.75  14.25  14.75  \n",
      "0    -0.25  -0.16   0.02   0.03  -0.08   0.01  -0.02  -0.08  -0.12  -0.02  \n",
      "1    -0.13  -0.09   0.08   0.06  -0.01   0.02  -0.00  -0.00  -0.10  -0.02  \n",
      "2    -0.11  -0.03   0.12   0.10  -0.01   0.04   0.03  -0.02  -0.05  -0.02  \n",
      "3    -0.09  -0.02   0.07   0.09  -0.03  -0.00  -0.02  -0.02  -0.11  -0.02  \n",
      "4    -0.29  -0.23   0.02  -0.02  -0.06  -0.03  -0.07  -0.05  -0.11  -0.02  \n",
      "..     ...    ...    ...    ...    ...    ...    ...    ...    ...    ...  \n",
      "395  -0.26  -0.12   0.01   0.02  -0.01  -0.00  -0.03  -0.04  -0.06  -0.02  \n",
      "396  -0.31  -0.17  -0.04  -0.04  -0.03  -0.03  -0.03  -0.03  -0.04  -0.02  \n",
      "397  -0.29  -0.25  -0.08  -0.04  -0.04  -0.02   0.03  -0.00   0.01  -0.02  \n",
      "398  -0.37  -0.20  -0.08  -0.09  -0.05  -0.01  -0.03  -0.04  -0.07  -0.02  \n",
      "399  -0.52  -0.35  -0.19  -0.12  -0.11  -0.07  -0.03  -0.02  -0.07  -0.02  \n",
      "\n",
      "[400 rows x 32 columns]\n"
     ]
    }
   ],
   "source": [
    "DOPE_FILE = \"dope.par.txt\"\n",
    "DOPE_MATRIX = clean_DOPE_data(DOPE_FILE)\n",
    "print(DOPE_MATRIX)"
   ]
  },
  {
   "cell_type": "markdown",
   "id": "08800e4d-7721-497d-a511-b709163d9056",
   "metadata": {},
   "source": [
    "# Recherche de la distance dans la DOPE depuis les deux résidus"
   ]
  },
  {
   "cell_type": "code",
   "execution_count": 4,
   "id": "00a6bff5-a420-47ab-aacc-1be1835af85f",
   "metadata": {},
   "outputs": [],
   "source": [
    "AA_CODES = {\n",
    "    'A': 'ALA', 'R': 'ARG', 'N': 'ASN', 'D': 'ASP', 'C': 'CYS',\n",
    "    'Q': 'GLN', 'E': 'GLU', 'G': 'GLY', 'H': 'HIS', 'I': 'ILE',\n",
    "    'L': 'LEU', 'K': 'LYS', 'M': 'MET', 'F': 'PHE', 'P': 'PRO',\n",
    "    'S': 'SER', 'T': 'THR', 'W': 'TRP', 'Y': 'TYR', 'V': 'VAL'\n",
    "}"
   ]
  },
  {
   "cell_type": "code",
   "execution_count": 5,
   "id": "1a9d0b20-89a6-4a8a-8e8d-a3ac8c55d8bc",
   "metadata": {},
   "outputs": [
    {
     "data": {
      "text/plain": [
       "10.75"
      ]
     },
     "execution_count": 5,
     "metadata": {},
     "output_type": "execute_result"
    }
   ],
   "source": [
    "def round_distance(dist):\n",
    "    # arrondi au quart le plus proche\n",
    "    rounded_value = round(dist * 4) / 4\n",
    "    \n",
    "    # ne garde que 0.25 ou 0.75\n",
    "    decimal = rounded_value % 1\n",
    "    if decimal == 0.0:\n",
    "        return rounded_value + 0.25\n",
    "    elif decimal == 0.5:\n",
    "        return rounded_value + 0.25\n",
    "    else:\n",
    "        return rounded_value\n",
    "    # si pile au milieu, on prends le plus proche supérieur\n",
    "\n",
    "dist = 10.5\n",
    "round_distance(dist)"
   ]
  },
  {
   "cell_type": "code",
   "execution_count": 16,
   "id": "c4110d3f-fd3a-4012-a2a0-097e4f8fef37",
   "metadata": {},
   "outputs": [],
   "source": [
    "def get_potential(res1, res2, dist, dope):\n",
    "    closest_dist = round_distance(dist)\n",
    "    potential = dope.loc[(dope['res1'] == res1) & (dope['res2'] == res2), closest_dist]\n",
    "    print(float(potential.iloc[0]))"
   ]
  },
  {
   "cell_type": "code",
   "execution_count": 17,
   "id": "8eb1e21e-e78e-45c8-9427-abea16fe2de9",
   "metadata": {},
   "outputs": [
    {
     "name": "stdout",
     "output_type": "stream",
     "text": [
      "-0.13\n"
     ]
    }
   ],
   "source": [
    "get_potential(AA_CODES['A'], AA_CODES['R'], 10.2, DOPE_MATRIX)"
   ]
  },
  {
   "cell_type": "markdown",
   "id": "60dee0cc-005d-40ac-864c-de9932398da8",
   "metadata": {},
   "source": [
    "# Construction des low level"
   ]
  },
  {
   "cell_type": "code",
   "execution_count": null,
   "id": "ee100866-0507-4d52-bfdb-c025376839ee",
   "metadata": {},
   "outputs": [],
   "source": [
    "# 5awl\n",
    "seq = \"YYDPETGTWY\"\n",
    "longueur = 10 # template.longueur\n",
    "\n",
    "for aa in enumerate(seq):\n",
    "    for position in range(longueur):\n",
    "        # code\n",
    "\n",
    "        "
   ]
  },
  {
   "cell_type": "code",
   "execution_count": null,
   "id": "c867e032-0416-4192-83f6-83e03c451fff",
   "metadata": {},
   "outputs": [],
   "source": [
    "class DynamicMatrix:\n",
    "    def __init__(self, lines, columns, score_matrix, gap):\n",
    "        self.matrix = np.zeros((lines, columns))\n",
    "        self.lines = lines\n",
    "        self.columns = columns\n",
    "        self.score_matrix = score.matrix\n",
    "        self.gap = gap\n",
    "\n",
    "    def fill_matrix(self, get_score):\n",
    "        for i in range(1, lines):\n",
    "            for j in range(1, columns):\n",
    "                get_score()"
   ]
  },
  {
   "cell_type": "code",
   "execution_count": 64,
   "id": "878e0527-bb4a-4efb-b8b3-e32842f5b205",
   "metadata": {},
   "outputs": [],
   "source": [
    "class LowLevelMatrix:\n",
    "    def __init__(self, lines, columns, score_matrix, gap, fixed_aa_id, fixed_pos):\n",
    "        self.matrix = np.zeros((lines, columns))\n",
    "        self.lines = lines\n",
    "        self.columns = columns\n",
    "        self.score_matrix = score_matrix\n",
    "        self.gap = gap\n",
    "\n",
    "        # Vérification du blocage de la case\n",
    "        if (fixed_aa_id >= lines) or (fixed_aa_id < 0):\n",
    "            raise ValueError(\"Ligne fixée hors de la matrice\")\n",
    "        if (fixed_pos >= columns) or (fixed_pos < 0):\n",
    "            raise ValueError(\"Colonne fixée hors de la matrice\")\n",
    "        \n",
    "        self.fixed_aa_id = fixed_aa_id\n",
    "        self.fixed_pos = fixed_pos\n",
    "\n",
    "    def initialize_matrix(self, first_val, start, end):\n",
    "        # Première case\n",
    "        self.matrix[start[0], start[1]] = first_val\n",
    "        \n",
    "        # Remplissage de la première colonne jusqu'à la limite\n",
    "        for i in range(start[0] + 1, end[0] + 1):\n",
    "            self.matrix[i, start[1]] = self.matrix[i - 1, start[1]] + self.gap\n",
    "\n",
    "        # Remplissage de la première ligne jusqu'à la limite\n",
    "        for j in range(start[1] + 1, end[1] + 1):\n",
    "            self.matrix[start[0], j] = self.matrix[start[0], j - 1] + self.gap\n",
    "\n",
    "    def fill_matrix(self):\n",
    "        # MANQUE LES SORTIES DE MATRICE\n",
    "        \n",
    "        # Partie supérieure gauche\n",
    "        self.initialize_matrix(0, [0, 0], [self.fixed_aa_id - 1, self.fixed_pos - 1])\n",
    "\n",
    "        for i in range(1, self.fixed_aa_id):\n",
    "            for j in range(1, self.fixed_pos):\n",
    "                self.matrix[i, j] = min(self.matrix[i - 1, j - 1] + SCORE, self.matrix[i - 1] + self.gap, self.matrix[i, j - 1] + self.gap)\n",
    "\n",
    "        # Case fixée\n",
    "        self.matrix[self.fixed_aa_id, self.fixed_pos] = self.matrix[self.fixed_aa_id - 1, self.fixed_pos - 1]\n",
    "        \n",
    "        # Partie inférieure droite\n",
    "        self.initialize_matrix(self.matrix[self.fixed_aa_id, self.fixed_pos],\n",
    "                               [self.fixed_aa_id + 1, self.fixed_pos + 1],\n",
    "                               [self.lines, self.columns]\n",
    "                              )\n",
    "\n",
    "        for i in range(self.fixed_aa_id + 2, self.lines):\n",
    "            for j in range(self.fixed_pos + 2, self.columns):\n",
    "                self.matrix[i, j] = min(self.matrix[i - 1, j - 1] + SCORE, self.matrix[i - 1] + self.gap, self.matrix[i, j - 1] + self.gap)"
   ]
  },
  {
   "cell_type": "code",
   "execution_count": 65,
   "id": "006e65db-4f79-4bb4-b16c-3522af4a60f6",
   "metadata": {},
   "outputs": [
    {
     "name": "stdout",
     "output_type": "stream",
     "text": [
      "[[0. 0. 0. 0. 0.]\n",
      " [0. 0. 0. 0. 0.]\n",
      " [0. 0. 0. 0. 0.]\n",
      " [0. 0. 0. 0. 0.]\n",
      " [0. 0. 0. 0. 0.]] \n",
      "\n",
      "[[8. 6. 0. 0. 0.]\n",
      " [6. 0. 0. 0. 0.]\n",
      " [0. 0. 0. 0. 0.]\n",
      " [0. 0. 0. 0. 0.]\n",
      " [0. 0. 0. 0. 0.]] \n",
      "\n",
      "[[8. 6. 0. 0. 0.]\n",
      " [6. 0. 0. 0. 0.]\n",
      " [0. 0. 5. 0. 0.]\n",
      " [0. 0. 0. 0. 0.]\n",
      " [0. 0. 0. 0. 0.]] \n",
      "\n",
      "[[8. 6. 0. 0. 0.]\n",
      " [6. 0. 0. 0. 0.]\n",
      " [0. 0. 5. 0. 0.]\n",
      " [0. 0. 0. 5. 3.]\n",
      " [0. 0. 0. 3. 0.]] \n",
      "\n"
     ]
    }
   ],
   "source": [
    "m = LowLevelMatrix(5, 5, \"rien\", -2, 2, 2)\n",
    "print(m.matrix, \"\\n\")\n",
    "m.initialize_matrix(8, [0, 0], [m.fixed_aa_id - 1, m.fixed_pos - 1])\n",
    "print(m.matrix, \"\\n\")\n",
    "m.matrix[m.fixed_aa_id, m.fixed_pos] = 5\n",
    "print(m.matrix, \"\\n\")\n",
    "m.initialize_matrix(m.matrix[m.fixed_aa_id, m.fixed_pos],\n",
    "                               [m.fixed_aa_id + 1, m.fixed_pos + 1],\n",
    "                               [m.lines - 1, m.columns - 1]\n",
    "                              )\n",
    "print(m.matrix, \"\\n\")"
   ]
  },
  {
   "cell_type": "code",
   "execution_count": 66,
   "id": "4bb4237c-2e08-4cb8-9979-19f626f249a4",
   "metadata": {},
   "outputs": [
    {
     "ename": "ValueError",
     "evalue": "Ligne fixée hors de la matrice",
     "output_type": "error",
     "traceback": [
      "\u001b[0;31m---------------------------------------------------------------------------\u001b[0m",
      "\u001b[0;31mValueError\u001b[0m                                Traceback (most recent call last)",
      "Cell \u001b[0;32mIn[66], line 1\u001b[0m\n\u001b[0;32m----> 1\u001b[0m m \u001b[38;5;241m=\u001b[39m \u001b[43mLowLevelMatrix\u001b[49m\u001b[43m(\u001b[49m\u001b[38;5;241;43m5\u001b[39;49m\u001b[43m,\u001b[49m\u001b[43m \u001b[49m\u001b[38;5;241;43m5\u001b[39;49m\u001b[43m,\u001b[49m\u001b[43m \u001b[49m\u001b[38;5;124;43m\"\u001b[39;49m\u001b[38;5;124;43mrien\u001b[39;49m\u001b[38;5;124;43m\"\u001b[39;49m\u001b[43m,\u001b[49m\u001b[43m \u001b[49m\u001b[38;5;241;43m-\u001b[39;49m\u001b[38;5;241;43m2\u001b[39;49m\u001b[43m,\u001b[49m\u001b[43m \u001b[49m\u001b[38;5;241;43m5\u001b[39;49m\u001b[43m,\u001b[49m\u001b[43m \u001b[49m\u001b[38;5;241;43m2\u001b[39;49m\u001b[43m)\u001b[49m\n",
      "Cell \u001b[0;32mIn[64], line 11\u001b[0m, in \u001b[0;36mLowLevelMatrix.__init__\u001b[0;34m(self, lines, columns, score_matrix, gap, fixed_aa_id, fixed_pos)\u001b[0m\n\u001b[1;32m      8\u001b[0m \u001b[38;5;28mself\u001b[39m\u001b[38;5;241m.\u001b[39mgap \u001b[38;5;241m=\u001b[39m gap\n\u001b[1;32m     10\u001b[0m \u001b[38;5;28;01mif\u001b[39;00m (fixed_aa_id \u001b[38;5;241m>\u001b[39m\u001b[38;5;241m=\u001b[39m lines) \u001b[38;5;129;01mor\u001b[39;00m (fixed_aa_id \u001b[38;5;241m<\u001b[39m \u001b[38;5;241m0\u001b[39m):\n\u001b[0;32m---> 11\u001b[0m     \u001b[38;5;28;01mraise\u001b[39;00m \u001b[38;5;167;01mValueError\u001b[39;00m(\u001b[38;5;124m\"\u001b[39m\u001b[38;5;124mLigne fixée hors de la matrice\u001b[39m\u001b[38;5;124m\"\u001b[39m)\n\u001b[1;32m     12\u001b[0m \u001b[38;5;28;01mif\u001b[39;00m (fixed_pos \u001b[38;5;241m>\u001b[39m\u001b[38;5;241m=\u001b[39m columns) \u001b[38;5;129;01mor\u001b[39;00m (fixed_pos \u001b[38;5;241m<\u001b[39m \u001b[38;5;241m0\u001b[39m):\n\u001b[1;32m     13\u001b[0m     \u001b[38;5;28;01mraise\u001b[39;00m \u001b[38;5;167;01mValueError\u001b[39;00m(\u001b[38;5;124m\"\u001b[39m\u001b[38;5;124mColonne fixée hors de la matrice\u001b[39m\u001b[38;5;124m\"\u001b[39m)\n",
      "\u001b[0;31mValueError\u001b[0m: Ligne fixée hors de la matrice"
     ]
    }
   ],
   "source": [
    "m = LowLevelMatrix(5, 5, \"rien\", -2, 5, 2)"
   ]
  },
  {
   "cell_type": "code",
   "execution_count": 67,
   "id": "c6d6cdf2-9c0a-4e92-9a20-539dfc358b73",
   "metadata": {},
   "outputs": [
    {
     "ename": "ValueError",
     "evalue": "Colonne fixée hors de la matrice",
     "output_type": "error",
     "traceback": [
      "\u001b[0;31m---------------------------------------------------------------------------\u001b[0m",
      "\u001b[0;31mValueError\u001b[0m                                Traceback (most recent call last)",
      "Cell \u001b[0;32mIn[67], line 1\u001b[0m\n\u001b[0;32m----> 1\u001b[0m m \u001b[38;5;241m=\u001b[39m \u001b[43mLowLevelMatrix\u001b[49m\u001b[43m(\u001b[49m\u001b[38;5;241;43m5\u001b[39;49m\u001b[43m,\u001b[49m\u001b[43m \u001b[49m\u001b[38;5;241;43m5\u001b[39;49m\u001b[43m,\u001b[49m\u001b[43m \u001b[49m\u001b[38;5;124;43m\"\u001b[39;49m\u001b[38;5;124;43mrien\u001b[39;49m\u001b[38;5;124;43m\"\u001b[39;49m\u001b[43m,\u001b[49m\u001b[43m \u001b[49m\u001b[38;5;241;43m-\u001b[39;49m\u001b[38;5;241;43m2\u001b[39;49m\u001b[43m,\u001b[49m\u001b[43m \u001b[49m\u001b[38;5;241;43m2\u001b[39;49m\u001b[43m,\u001b[49m\u001b[43m \u001b[49m\u001b[38;5;241;43m-\u001b[39;49m\u001b[38;5;241;43m2\u001b[39;49m\u001b[43m)\u001b[49m\n",
      "Cell \u001b[0;32mIn[64], line 13\u001b[0m, in \u001b[0;36mLowLevelMatrix.__init__\u001b[0;34m(self, lines, columns, score_matrix, gap, fixed_aa_id, fixed_pos)\u001b[0m\n\u001b[1;32m     11\u001b[0m     \u001b[38;5;28;01mraise\u001b[39;00m \u001b[38;5;167;01mValueError\u001b[39;00m(\u001b[38;5;124m\"\u001b[39m\u001b[38;5;124mLigne fixée hors de la matrice\u001b[39m\u001b[38;5;124m\"\u001b[39m)\n\u001b[1;32m     12\u001b[0m \u001b[38;5;28;01mif\u001b[39;00m (fixed_pos \u001b[38;5;241m>\u001b[39m\u001b[38;5;241m=\u001b[39m columns) \u001b[38;5;129;01mor\u001b[39;00m (fixed_pos \u001b[38;5;241m<\u001b[39m \u001b[38;5;241m0\u001b[39m):\n\u001b[0;32m---> 13\u001b[0m     \u001b[38;5;28;01mraise\u001b[39;00m \u001b[38;5;167;01mValueError\u001b[39;00m(\u001b[38;5;124m\"\u001b[39m\u001b[38;5;124mColonne fixée hors de la matrice\u001b[39m\u001b[38;5;124m\"\u001b[39m)\n\u001b[1;32m     15\u001b[0m \u001b[38;5;28mself\u001b[39m\u001b[38;5;241m.\u001b[39mfixed_aa_id \u001b[38;5;241m=\u001b[39m fixed_aa_id\n\u001b[1;32m     16\u001b[0m \u001b[38;5;28mself\u001b[39m\u001b[38;5;241m.\u001b[39mfixed_pos \u001b[38;5;241m=\u001b[39m fixed_pos\n",
      "\u001b[0;31mValueError\u001b[0m: Colonne fixée hors de la matrice"
     ]
    }
   ],
   "source": [
    "m = LowLevelMatrix(5, 5, \"rien\", -2, 2, -2)"
   ]
  },
  {
   "cell_type": "markdown",
   "id": "65cc8d48-d022-46af-816c-123af6248b35",
   "metadata": {},
   "source": [
    "# Classes matrices dynamiques"
   ]
  },
  {
   "cell_type": "code",
   "execution_count": 33,
   "id": "212c3039-4f0e-47c1-a975-b15dc5e525ca",
   "metadata": {},
   "outputs": [],
   "source": [
    "class DynamicMatrix:\n",
    "    def __init__(self, lines, columns, score_matrix, gap):\n",
    "        self.matrix = np.zeros((lines, columns))\n",
    "        self.lines = lines\n",
    "        self.columns = columns\n",
    "        self.score_matrix = score_matrix\n",
    "        self.gap = gap\n",
    "\n",
    "    def initialize_matrix(self, first_val, start, end):\n",
    "        if (start[0] < 0) or (start[1] < 0):\n",
    "            raise ValueError(\"Start of initialization out of matrix.\")\n",
    "        if (end[0] >= self.lines) or (end[1] >= self.columns):\n",
    "            raise ValueError(\"End of initialization out of matrix.\")\n",
    "        \n",
    "        # Première case\n",
    "        self.matrix[start[0], start[1]] = first_val\n",
    "        \n",
    "        # Remplissage de la première colonne jusqu'à la limite\n",
    "        for i in range(start[0] + 1, end[0] + 1):\n",
    "            self.matrix[i, start[1]] = self.matrix[i - 1, start[1]] + self.gap\n",
    "\n",
    "        # Remplissage de la première ligne jusqu'à la limite\n",
    "        for j in range(start[1] + 1, end[1] + 1):\n",
    "            self.matrix[start[0], j] = self.matrix[start[0], j - 1] + self.gap"
   ]
  },
  {
   "cell_type": "code",
   "execution_count": 49,
   "id": "446f3608-5ed3-446f-b5c8-bfd9f273b061",
   "metadata": {},
   "outputs": [],
   "source": [
    "class LowLevelMatrix(DynamicMatrix):\n",
    "    def __init__(self, lines, columns, score_matrix, gap, fixed_aa_id, fixed_pos):\n",
    "        DynamicMatrix.__init__(self, lines, columns, score_matrix, gap)\n",
    "\n",
    "        # Vérification du blocage de la case\n",
    "        if (fixed_aa_id >= lines) or (fixed_aa_id < 0):\n",
    "            raise ValueError(\"Frozen line index out of matrix.\")\n",
    "        if (fixed_pos >= columns) or (fixed_pos < 0):\n",
    "            raise ValueError(\"Frozen column index out of matrix\")\n",
    "        \n",
    "        self.fixed_aa_id = fixed_aa_id\n",
    "        self.fixed_pos = fixed_pos\n",
    "\n",
    "    def fill_matrix(self):\n",
    "        # Partie supérieure gauche\n",
    "        self.initialize_matrix(0, [0, 0], [self.fixed_aa_id - 1, self.fixed_pos - 1])\n",
    "\n",
    "        for i in range(1, self.fixed_aa_id):\n",
    "            for j in range(1, self.fixed_pos):\n",
    "                self.matrix[i, j] = min(self.matrix[i - 1, j - 1] + SCORE,\n",
    "                                        self.matrix[i - 1] + self.gap,\n",
    "                                        self.matrix[i, j - 1] + self.gap\n",
    "                                       )\n",
    "\n",
    "        # Case fixée\n",
    "        self.matrix[self.fixed_aa_id, self.fixed_pos] = self.matrix[self.fixed_aa_id - 1, self.fixed_pos - 1]\n",
    "        \n",
    "        # Partie inférieure droite\n",
    "        self.initialize_matrix(self.matrix[self.fixed_aa_id, self.fixed_pos],\n",
    "                               [self.fixed_aa_id + 1, self.fixed_pos + 1],\n",
    "                               [self.lines, self.columns]\n",
    "                              )\n",
    "\n",
    "        for i in range(self.fixed_aa_id + 2, self.lines):\n",
    "            for j in range(self.fixed_pos + 2, self.columns):\n",
    "                self.matrix[i, j] = min(self.matrix[i - 1, j - 1] + SCORE,\n",
    "                                        self.matrix[i - 1] + self.gap,\n",
    "                                        self.matrix[i, j - 1] + self.gap\n",
    "                                       )"
   ]
  },
  {
   "cell_type": "code",
   "execution_count": 35,
   "id": "9ff57e98-83ce-44a8-8970-7142b4bfed00",
   "metadata": {},
   "outputs": [
    {
     "name": "stdout",
     "output_type": "stream",
     "text": [
      "[[8. 7. 6. 5. 4.]\n",
      " [7. 0. 0. 0. 0.]\n",
      " [6. 0. 0. 0. 0.]\n",
      " [5. 0. 0. 0. 0.]\n",
      " [4. 0. 0. 0. 0.]]\n"
     ]
    }
   ],
   "source": [
    "dyn_test = DynamicMatrix(5, 5, \"rien\", -1)\n",
    "dyn_test.initialize_matrix(8, [0, 0], [4, 4])\n",
    "print(dyn_test.matrix)"
   ]
  },
  {
   "cell_type": "code",
   "execution_count": 48,
   "id": "f2086ded-4009-4f7b-af07-98996c54e027",
   "metadata": {},
   "outputs": [
    {
     "name": "stdout",
     "output_type": "stream",
     "text": [
      "[[8. 7. 6. 5. 0.]\n",
      " [0. 0. 0. 0. 0.]\n",
      " [0. 0. 0. 0. 0.]\n",
      " [0. 0. 0. 0. 0.]\n",
      " [0. 0. 0. 0. 0.]]\n"
     ]
    }
   ],
   "source": [
    "dyn_test = LowLevelMatrix(5, 5, \"rien\", -1, 0, 4)\n",
    "dyn_test.initialize_matrix(8, [0, 0], [dyn_test.fixed_aa_id - 1, dyn_test.fixed_pos - 1])\n",
    "print(dyn_test.matrix)"
   ]
  },
  {
   "cell_type": "code",
   "execution_count": null,
   "id": "8a512f94-7d7a-4551-bc23-55ff9c839a8f",
   "metadata": {},
   "outputs": [],
   "source": []
  }
 ],
 "metadata": {
  "kernelspec": {
   "display_name": "Python 3 (ipykernel)",
   "language": "python",
   "name": "python3"
  },
  "language_info": {
   "codemirror_mode": {
    "name": "ipython",
    "version": 3
   },
   "file_extension": ".py",
   "mimetype": "text/x-python",
   "name": "python",
   "nbconvert_exporter": "python",
   "pygments_lexer": "ipython3",
   "version": "3.12.3"
  }
 },
 "nbformat": 4,
 "nbformat_minor": 5
}
